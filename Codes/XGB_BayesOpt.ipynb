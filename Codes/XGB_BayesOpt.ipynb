{
  "cells": [
    {
      "cell_type": "code",
      "source": [
        "#!/usr/bin/env python3\n",
        "# -*- coding: utf-8 -*-\n",
        "\"\"\"\n",
        "Created on Jun 4, 2022 7:44 AM\n",
        "@author: melpakkampradeep\n",
        "\"\"\""
      ],
      "metadata": {
        "id": "rvgmTmkRAs1I"
      },
      "execution_count": null,
      "outputs": []
    },
    {
      "cell_type": "code",
      "execution_count": null,
      "metadata": {
        "id": "C523REvvfjQ4"
      },
      "outputs": [],
      "source": [
        "!pip install bayesian-optimization\n",
        "\n",
        "# Import required libraries\n",
        "import pandas as pd\n",
        "import numpy as np\n",
        "import io\n",
        "import matplotlib\n",
        "from matplotlib import pyplot as plt\n",
        "import math\n",
        "from sklearn.metrics import mean_squared_error, accuracy_score, confusion_matrix, precision_score, recall_score, accuracy_score\n",
        "from xgboost import XGBClassifier\n",
        "import pickle\n",
        "import bayes_opt\n",
        "from bayes_opt import BayesianOptimization\n",
        "\n",
        "from sklearn.experimental import enable_halving_search_cv\n",
        "from sklearn.pipeline import Pipeline\n",
        "from sklearn.model_selection import train_test_split\n",
        "import xgboost as xgb\n",
        "from sklearn.model_selection import GridSearchCV, RandomizedSearchCV, HalvingGridSearchCV\n",
        "\n",
        "from google.colab import files\n",
        "\n",
        "pd.set_option(\"max_columns\", None) # show all cols\n",
        "pd.set_option('max_colwidth', None) # show full width of showing cols\n",
        "pd.set_option(\"expand_frame_repr\", False) # print cols side by side as it's supposed to be"
      ]
    },
    {
      "cell_type": "code",
      "execution_count": null,
      "metadata": {
        "id": "0AJY6ag7jmjd"
      },
      "outputs": [],
      "source": [
        "import time\n",
        "from sklearn.model_selection import cross_val_score\n",
        "from sklearn.metrics import make_scorer"
      ]
    },
    {
      "cell_type": "code",
      "execution_count": null,
      "metadata": {
        "colab": {
          "base_uri": "https://localhost:8080/",
          "height": 74,
          "resources": {
            "http://localhost:8080/nbextensions/google.colab/files.js": {
              "data": "Ly8gQ29weXJpZ2h0IDIwMTcgR29vZ2xlIExMQwovLwovLyBMaWNlbnNlZCB1bmRlciB0aGUgQXBhY2hlIExpY2Vuc2UsIFZlcnNpb24gMi4wICh0aGUgIkxpY2Vuc2UiKTsKLy8geW91IG1heSBub3QgdXNlIHRoaXMgZmlsZSBleGNlcHQgaW4gY29tcGxpYW5jZSB3aXRoIHRoZSBMaWNlbnNlLgovLyBZb3UgbWF5IG9idGFpbiBhIGNvcHkgb2YgdGhlIExpY2Vuc2UgYXQKLy8KLy8gICAgICBodHRwOi8vd3d3LmFwYWNoZS5vcmcvbGljZW5zZXMvTElDRU5TRS0yLjAKLy8KLy8gVW5sZXNzIHJlcXVpcmVkIGJ5IGFwcGxpY2FibGUgbGF3IG9yIGFncmVlZCB0byBpbiB3cml0aW5nLCBzb2Z0d2FyZQovLyBkaXN0cmlidXRlZCB1bmRlciB0aGUgTGljZW5zZSBpcyBkaXN0cmlidXRlZCBvbiBhbiAiQVMgSVMiIEJBU0lTLAovLyBXSVRIT1VUIFdBUlJBTlRJRVMgT1IgQ09ORElUSU9OUyBPRiBBTlkgS0lORCwgZWl0aGVyIGV4cHJlc3Mgb3IgaW1wbGllZC4KLy8gU2VlIHRoZSBMaWNlbnNlIGZvciB0aGUgc3BlY2lmaWMgbGFuZ3VhZ2UgZ292ZXJuaW5nIHBlcm1pc3Npb25zIGFuZAovLyBsaW1pdGF0aW9ucyB1bmRlciB0aGUgTGljZW5zZS4KCi8qKgogKiBAZmlsZW92ZXJ2aWV3IEhlbHBlcnMgZm9yIGdvb2dsZS5jb2xhYiBQeXRob24gbW9kdWxlLgogKi8KKGZ1bmN0aW9uKHNjb3BlKSB7CmZ1bmN0aW9uIHNwYW4odGV4dCwgc3R5bGVBdHRyaWJ1dGVzID0ge30pIHsKICBjb25zdCBlbGVtZW50ID0gZG9jdW1lbnQuY3JlYXRlRWxlbWVudCgnc3BhbicpOwogIGVsZW1lbnQudGV4dENvbnRlbnQgPSB0ZXh0OwogIGZvciAoY29uc3Qga2V5IG9mIE9iamVjdC5rZXlzKHN0eWxlQXR0cmlidXRlcykpIHsKICAgIGVsZW1lbnQuc3R5bGVba2V5XSA9IHN0eWxlQXR0cmlidXRlc1trZXldOwogIH0KICByZXR1cm4gZWxlbWVudDsKfQoKLy8gTWF4IG51bWJlciBvZiBieXRlcyB3aGljaCB3aWxsIGJlIHVwbG9hZGVkIGF0IGEgdGltZS4KY29uc3QgTUFYX1BBWUxPQURfU0laRSA9IDEwMCAqIDEwMjQ7CgpmdW5jdGlvbiBfdXBsb2FkRmlsZXMoaW5wdXRJZCwgb3V0cHV0SWQpIHsKICBjb25zdCBzdGVwcyA9IHVwbG9hZEZpbGVzU3RlcChpbnB1dElkLCBvdXRwdXRJZCk7CiAgY29uc3Qgb3V0cHV0RWxlbWVudCA9IGRvY3VtZW50LmdldEVsZW1lbnRCeUlkKG91dHB1dElkKTsKICAvLyBDYWNoZSBzdGVwcyBvbiB0aGUgb3V0cHV0RWxlbWVudCB0byBtYWtlIGl0IGF2YWlsYWJsZSBmb3IgdGhlIG5leHQgY2FsbAogIC8vIHRvIHVwbG9hZEZpbGVzQ29udGludWUgZnJvbSBQeXRob24uCiAgb3V0cHV0RWxlbWVudC5zdGVwcyA9IHN0ZXBzOwoKICByZXR1cm4gX3VwbG9hZEZpbGVzQ29udGludWUob3V0cHV0SWQpOwp9CgovLyBUaGlzIGlzIHJvdWdobHkgYW4gYXN5bmMgZ2VuZXJhdG9yIChub3Qgc3VwcG9ydGVkIGluIHRoZSBicm93c2VyIHlldCksCi8vIHdoZXJlIHRoZXJlIGFyZSBtdWx0aXBsZSBhc3luY2hyb25vdXMgc3RlcHMgYW5kIHRoZSBQeXRob24gc2lkZSBpcyBnb2luZwovLyB0byBwb2xsIGZvciBjb21wbGV0aW9uIG9mIGVhY2ggc3RlcC4KLy8gVGhpcyB1c2VzIGEgUHJvbWlzZSB0byBibG9jayB0aGUgcHl0aG9uIHNpZGUgb24gY29tcGxldGlvbiBvZiBlYWNoIHN0ZXAsCi8vIHRoZW4gcGFzc2VzIHRoZSByZXN1bHQgb2YgdGhlIHByZXZpb3VzIHN0ZXAgYXMgdGhlIGlucHV0IHRvIHRoZSBuZXh0IHN0ZXAuCmZ1bmN0aW9uIF91cGxvYWRGaWxlc0NvbnRpbnVlKG91dHB1dElkKSB7CiAgY29uc3Qgb3V0cHV0RWxlbWVudCA9IGRvY3VtZW50LmdldEVsZW1lbnRCeUlkKG91dHB1dElkKTsKICBjb25zdCBzdGVwcyA9IG91dHB1dEVsZW1lbnQuc3RlcHM7CgogIGNvbnN0IG5leHQgPSBzdGVwcy5uZXh0KG91dHB1dEVsZW1lbnQubGFzdFByb21pc2VWYWx1ZSk7CiAgcmV0dXJuIFByb21pc2UucmVzb2x2ZShuZXh0LnZhbHVlLnByb21pc2UpLnRoZW4oKHZhbHVlKSA9PiB7CiAgICAvLyBDYWNoZSB0aGUgbGFzdCBwcm9taXNlIHZhbHVlIHRvIG1ha2UgaXQgYXZhaWxhYmxlIHRvIHRoZSBuZXh0CiAgICAvLyBzdGVwIG9mIHRoZSBnZW5lcmF0b3IuCiAgICBvdXRwdXRFbGVtZW50Lmxhc3RQcm9taXNlVmFsdWUgPSB2YWx1ZTsKICAgIHJldHVybiBuZXh0LnZhbHVlLnJlc3BvbnNlOwogIH0pOwp9CgovKioKICogR2VuZXJhdG9yIGZ1bmN0aW9uIHdoaWNoIGlzIGNhbGxlZCBiZXR3ZWVuIGVhY2ggYXN5bmMgc3RlcCBvZiB0aGUgdXBsb2FkCiAqIHByb2Nlc3MuCiAqIEBwYXJhbSB7c3RyaW5nfSBpbnB1dElkIEVsZW1lbnQgSUQgb2YgdGhlIGlucHV0IGZpbGUgcGlja2VyIGVsZW1lbnQuCiAqIEBwYXJhbSB7c3RyaW5nfSBvdXRwdXRJZCBFbGVtZW50IElEIG9mIHRoZSBvdXRwdXQgZGlzcGxheS4KICogQHJldHVybiB7IUl0ZXJhYmxlPCFPYmplY3Q+fSBJdGVyYWJsZSBvZiBuZXh0IHN0ZXBzLgogKi8KZnVuY3Rpb24qIHVwbG9hZEZpbGVzU3RlcChpbnB1dElkLCBvdXRwdXRJZCkgewogIGNvbnN0IGlucHV0RWxlbWVudCA9IGRvY3VtZW50LmdldEVsZW1lbnRCeUlkKGlucHV0SWQpOwogIGlucHV0RWxlbWVudC5kaXNhYmxlZCA9IGZhbHNlOwoKICBjb25zdCBvdXRwdXRFbGVtZW50ID0gZG9jdW1lbnQuZ2V0RWxlbWVudEJ5SWQob3V0cHV0SWQpOwogIG91dHB1dEVsZW1lbnQuaW5uZXJIVE1MID0gJyc7CgogIGNvbnN0IHBpY2tlZFByb21pc2UgPSBuZXcgUHJvbWlzZSgocmVzb2x2ZSkgPT4gewogICAgaW5wdXRFbGVtZW50LmFkZEV2ZW50TGlzdGVuZXIoJ2NoYW5nZScsIChlKSA9PiB7CiAgICAgIHJlc29sdmUoZS50YXJnZXQuZmlsZXMpOwogICAgfSk7CiAgfSk7CgogIGNvbnN0IGNhbmNlbCA9IGRvY3VtZW50LmNyZWF0ZUVsZW1lbnQoJ2J1dHRvbicpOwogIGlucHV0RWxlbWVudC5wYXJlbnRFbGVtZW50LmFwcGVuZENoaWxkKGNhbmNlbCk7CiAgY2FuY2VsLnRleHRDb250ZW50ID0gJ0NhbmNlbCB1cGxvYWQnOwogIGNvbnN0IGNhbmNlbFByb21pc2UgPSBuZXcgUHJvbWlzZSgocmVzb2x2ZSkgPT4gewogICAgY2FuY2VsLm9uY2xpY2sgPSAoKSA9PiB7CiAgICAgIHJlc29sdmUobnVsbCk7CiAgICB9OwogIH0pOwoKICAvLyBXYWl0IGZvciB0aGUgdXNlciB0byBwaWNrIHRoZSBmaWxlcy4KICBjb25zdCBmaWxlcyA9IHlpZWxkIHsKICAgIHByb21pc2U6IFByb21pc2UucmFjZShbcGlja2VkUHJvbWlzZSwgY2FuY2VsUHJvbWlzZV0pLAogICAgcmVzcG9uc2U6IHsKICAgICAgYWN0aW9uOiAnc3RhcnRpbmcnLAogICAgfQogIH07CgogIGNhbmNlbC5yZW1vdmUoKTsKCiAgLy8gRGlzYWJsZSB0aGUgaW5wdXQgZWxlbWVudCBzaW5jZSBmdXJ0aGVyIHBpY2tzIGFyZSBub3QgYWxsb3dlZC4KICBpbnB1dEVsZW1lbnQuZGlzYWJsZWQgPSB0cnVlOwoKICBpZiAoIWZpbGVzKSB7CiAgICByZXR1cm4gewogICAgICByZXNwb25zZTogewogICAgICAgIGFjdGlvbjogJ2NvbXBsZXRlJywKICAgICAgfQogICAgfTsKICB9CgogIGZvciAoY29uc3QgZmlsZSBvZiBmaWxlcykgewogICAgY29uc3QgbGkgPSBkb2N1bWVudC5jcmVhdGVFbGVtZW50KCdsaScpOwogICAgbGkuYXBwZW5kKHNwYW4oZmlsZS5uYW1lLCB7Zm9udFdlaWdodDogJ2JvbGQnfSkpOwogICAgbGkuYXBwZW5kKHNwYW4oCiAgICAgICAgYCgke2ZpbGUudHlwZSB8fCAnbi9hJ30pIC0gJHtmaWxlLnNpemV9IGJ5dGVzLCBgICsKICAgICAgICBgbGFzdCBtb2RpZmllZDogJHsKICAgICAgICAgICAgZmlsZS5sYXN0TW9kaWZpZWREYXRlID8gZmlsZS5sYXN0TW9kaWZpZWREYXRlLnRvTG9jYWxlRGF0ZVN0cmluZygpIDoKICAgICAgICAgICAgICAgICAgICAgICAgICAgICAgICAgICAgJ24vYSd9IC0gYCkpOwogICAgY29uc3QgcGVyY2VudCA9IHNwYW4oJzAlIGRvbmUnKTsKICAgIGxpLmFwcGVuZENoaWxkKHBlcmNlbnQpOwoKICAgIG91dHB1dEVsZW1lbnQuYXBwZW5kQ2hpbGQobGkpOwoKICAgIGNvbnN0IGZpbGVEYXRhUHJvbWlzZSA9IG5ldyBQcm9taXNlKChyZXNvbHZlKSA9PiB7CiAgICAgIGNvbnN0IHJlYWRlciA9IG5ldyBGaWxlUmVhZGVyKCk7CiAgICAgIHJlYWRlci5vbmxvYWQgPSAoZSkgPT4gewogICAgICAgIHJlc29sdmUoZS50YXJnZXQucmVzdWx0KTsKICAgICAgfTsKICAgICAgcmVhZGVyLnJlYWRBc0FycmF5QnVmZmVyKGZpbGUpOwogICAgfSk7CiAgICAvLyBXYWl0IGZvciB0aGUgZGF0YSB0byBiZSByZWFkeS4KICAgIGxldCBmaWxlRGF0YSA9IHlpZWxkIHsKICAgICAgcHJvbWlzZTogZmlsZURhdGFQcm9taXNlLAogICAgICByZXNwb25zZTogewogICAgICAgIGFjdGlvbjogJ2NvbnRpbnVlJywKICAgICAgfQogICAgfTsKCiAgICAvLyBVc2UgYSBjaHVua2VkIHNlbmRpbmcgdG8gYXZvaWQgbWVzc2FnZSBzaXplIGxpbWl0cy4gU2VlIGIvNjIxMTU2NjAuCiAgICBsZXQgcG9zaXRpb24gPSAwOwogICAgZG8gewogICAgICBjb25zdCBsZW5ndGggPSBNYXRoLm1pbihmaWxlRGF0YS5ieXRlTGVuZ3RoIC0gcG9zaXRpb24sIE1BWF9QQVlMT0FEX1NJWkUpOwogICAgICBjb25zdCBjaHVuayA9IG5ldyBVaW50OEFycmF5KGZpbGVEYXRhLCBwb3NpdGlvbiwgbGVuZ3RoKTsKICAgICAgcG9zaXRpb24gKz0gbGVuZ3RoOwoKICAgICAgY29uc3QgYmFzZTY0ID0gYnRvYShTdHJpbmcuZnJvbUNoYXJDb2RlLmFwcGx5KG51bGwsIGNodW5rKSk7CiAgICAgIHlpZWxkIHsKICAgICAgICByZXNwb25zZTogewogICAgICAgICAgYWN0aW9uOiAnYXBwZW5kJywKICAgICAgICAgIGZpbGU6IGZpbGUubmFtZSwKICAgICAgICAgIGRhdGE6IGJhc2U2NCwKICAgICAgICB9LAogICAgICB9OwoKICAgICAgbGV0IHBlcmNlbnREb25lID0gZmlsZURhdGEuYnl0ZUxlbmd0aCA9PT0gMCA/CiAgICAgICAgICAxMDAgOgogICAgICAgICAgTWF0aC5yb3VuZCgocG9zaXRpb24gLyBmaWxlRGF0YS5ieXRlTGVuZ3RoKSAqIDEwMCk7CiAgICAgIHBlcmNlbnQudGV4dENvbnRlbnQgPSBgJHtwZXJjZW50RG9uZX0lIGRvbmVgOwoKICAgIH0gd2hpbGUgKHBvc2l0aW9uIDwgZmlsZURhdGEuYnl0ZUxlbmd0aCk7CiAgfQoKICAvLyBBbGwgZG9uZS4KICB5aWVsZCB7CiAgICByZXNwb25zZTogewogICAgICBhY3Rpb246ICdjb21wbGV0ZScsCiAgICB9CiAgfTsKfQoKc2NvcGUuZ29vZ2xlID0gc2NvcGUuZ29vZ2xlIHx8IHt9OwpzY29wZS5nb29nbGUuY29sYWIgPSBzY29wZS5nb29nbGUuY29sYWIgfHwge307CnNjb3BlLmdvb2dsZS5jb2xhYi5fZmlsZXMgPSB7CiAgX3VwbG9hZEZpbGVzLAogIF91cGxvYWRGaWxlc0NvbnRpbnVlLAp9Owp9KShzZWxmKTsK",
              "headers": [
                [
                  "content-type",
                  "application/javascript"
                ]
              ],
              "ok": true,
              "status": 200,
              "status_text": ""
            }
          }
        },
        "id": "9KecF76w5al7",
        "outputId": "33a8f3de-1ff2-43ea-90b6-76d2a06483e1"
      },
      "outputs": [
        {
          "output_type": "display_data",
          "data": {
            "text/plain": [
              "<IPython.core.display.HTML object>"
            ],
            "text/html": [
              "\n",
              "     <input type=\"file\" id=\"files-efb53b24-50c9-4b91-804c-7574e94f4304\" name=\"files[]\" multiple disabled\n",
              "        style=\"border:none\" />\n",
              "     <output id=\"result-efb53b24-50c9-4b91-804c-7574e94f4304\">\n",
              "      Upload widget is only available when the cell has been executed in the\n",
              "      current browser session. Please rerun this cell to enable.\n",
              "      </output>\n",
              "      <script src=\"/nbextensions/google.colab/files.js\"></script> "
            ]
          },
          "metadata": {}
        },
        {
          "output_type": "stream",
          "name": "stdout",
          "text": [
            "Saving COVID19_dataset_v4.csv to COVID19_dataset_v4.csv\n"
          ]
        }
      ],
      "source": [
        "uploaded = files.upload()\n",
        "# Read dataset (.csv format)\n",
        "datafull = pd.read_csv(io.BytesIO(uploaded['COVID19_dataset_v4.csv']))"
      ]
    },
    {
      "cell_type": "code",
      "execution_count": null,
      "metadata": {
        "id": "yz-bH7QH5nqo"
      },
      "outputs": [],
      "source": [
        "# Keep all features but Wave, Date and Country_code\n",
        "X_t = datafull.drop(columns=['Wave', 'Date', 'Country_code'])\n",
        "\n",
        "# The target variable\n",
        "y_t = datafull[['Wave']]"
      ]
    },
    {
      "cell_type": "code",
      "execution_count": null,
      "metadata": {
        "id": "Y--gKE7Z6FK8"
      },
      "outputs": [],
      "source": [
        "# Train-test split of the data\n",
        "X_train = X_t.iloc[0:149800]\n",
        "X_test = X_t.iloc[149801:-1]\n",
        "\n",
        "y_train = y_t.iloc[0:149800]\n",
        "y_test = y_t.iloc[149801:-1]"
      ]
    },
    {
      "cell_type": "code",
      "execution_count": null,
      "metadata": {
        "colab": {
          "base_uri": "https://localhost:8080/"
        },
        "id": "xlazac4n6Jh5",
        "outputId": "ec7e3e2a-8965-4e28-ec56-ffb36d708f0d"
      },
      "outputs": [
        {
          "output_type": "stream",
          "name": "stderr",
          "text": [
            "/usr/local/lib/python3.7/dist-packages/sklearn/preprocessing/_label.py:98: DataConversionWarning: A column-vector y was passed when a 1d array was expected. Please change the shape of y to (n_samples, ), for example using ravel().\n",
            "  y = column_or_1d(y, warn=True)\n",
            "/usr/local/lib/python3.7/dist-packages/sklearn/preprocessing/_label.py:133: DataConversionWarning: A column-vector y was passed when a 1d array was expected. Please change the shape of y to (n_samples, ), for example using ravel().\n",
            "  y = column_or_1d(y, warn=True)\n"
          ]
        },
        {
          "output_type": "execute_result",
          "data": {
            "text/plain": [
              "XGBClassifier()"
            ]
          },
          "metadata": {},
          "execution_count": 29
        }
      ],
      "source": [
        "# Train the XGBoost model with the default hyperparameters\n",
        "\n",
        "# Init classifier\n",
        "xgb_cl = xgb.XGBClassifier()\n",
        "\n",
        "# Fit\n",
        "xgb_cl.fit(X_train, y_train)"
      ]
    },
    {
      "cell_type": "code",
      "execution_count": null,
      "metadata": {
        "id": "-ty-TQEbp32E"
      },
      "outputs": [],
      "source": [
        "# Predict\n",
        "preds = xgb_cl.predict(X_test)\n",
        "predst = xgb_cl.predict(X_train)\n",
        "\n",
        "# Score\n",
        "print(\"Test acc: \", accuracy_score(y_test, preds))\n",
        "print(\"Test rec:\", recall_score(y_test, preds))\n",
        "print(\"Test pres:\", precision_score(y_test, preds))\n",
        "print()\n",
        "print(\"Train acc: \", accuracy_score(y_train, predst))\n",
        "print(\"Train rec:\", recall_score(y_train, predst))\n",
        "print(\"Train pres:\", precision_score(y_train, predst))"
      ]
    },
    {
      "cell_type": "code",
      "execution_count": null,
      "metadata": {
        "id": "SvfC7wtWYxxx"
      },
      "outputs": [],
      "source": [
        "# Test-train features chosen to generate n-day vector results\n",
        "X_train = X_train[['T15','T16','T17','T18','T19','T20','T21']]\n",
        "X_test = X_test[['T15','T16','T17','T18','T19','T20','T21']]"
      ]
    },
    {
      "cell_type": "code",
      "execution_count": null,
      "metadata": {
        "id": "TPkdzljH6Ubg"
      },
      "outputs": [],
      "source": [
        "# Feature Selection\n",
        "\n",
        "# Define the model\n",
        "model = XGBClassifier()\n",
        "# Fit the model\n",
        "model.fit(X_train, y_train)\n",
        "# Get importance\n",
        "importance = model.feature_importances_\n",
        "# Summarize feature importance\n",
        "for i,v in enumerate(importance):\n",
        "\tprint('Feature: %0d, Score: %.5f' % (i,v))\n",
        "# Plot feature importance\n",
        "plt.figure(figsize=(30, 5))\n",
        "plt.plot(X_train.columns, np.transpose(importance))\n",
        "plt.show()"
      ]
    },
    {
      "cell_type": "code",
      "execution_count": null,
      "metadata": {
        "id": "lJzSvyoI6Nw-"
      },
      "outputs": [],
      "source": [
        "# Test-train features based on feature selection (\"Top 13\")\n",
        "X_train = X_train[['MIN','Range','Sq', 'Median', 'Mean', 'Variance', 'MAX', 'PDF', 'Trend', 'Seasonal', 'Residual', 'T21', 'D7' ]]\n",
        "X_test = X_test[['MIN','Range','Sq', 'Median', 'Mean', 'Variance', 'MAX', 'PDF', 'Trend', 'Seasonal', 'Residual', 'T21', 'D7' ]]"
      ]
    },
    {
      "cell_type": "code",
      "execution_count": null,
      "metadata": {
        "id": "e1dxkKaiPw71"
      },
      "outputs": [],
      "source": [
        "# Hyperparameter search space\n",
        "params_xgb = {\n",
        "  'learning_rate' : (0.0005, 1),\n",
        "  'max_depth' : (1, 10),\n",
        "  'min_child_weight' : (1, 10),\n",
        "  'gamma': (0, 3),\n",
        "  'colsample_bytree' : (0.001, 1),\n",
        "  'num_boost_round': (100, 500),\n",
        "  'reg_lambda': (0.01, 10),\n",
        "  'scale_pos_weight' : (1, 10),\n",
        "  'subsample' : (0.001, 1),\n",
        "}"
      ]
    },
    {
      "cell_type": "code",
      "execution_count": null,
      "metadata": {
        "id": "rWvcyY8kRIl3"
      },
      "outputs": [],
      "source": [
        "# Hyperparams to be sent to the Bayesian Optimization (BO) algorithm\n",
        "def xgb_cl_bo(learning_rate, max_depth, min_child_weight, gamma, colsample_bytree, num_boost_round, reg_lambda, scale_pos_weight, subsample):\n",
        "    params_xgb = {}\n",
        "    params_xgb['learning_rate'] = learning_rate\n",
        "    params_xgb['max_depth'] = round(max_depth)\n",
        "    params_xgb['min_child_weight'] = min_child_weight\n",
        "    params_xgb['gamma'] = gamma\n",
        "    params_xgb['colsample_bytree'] = colsample_bytree\n",
        "    params_xgb['num_boost_round'] = round(num_boost_round)\n",
        "    params_xgb['reg_lambda'] = reg_lambda\n",
        "    params_xgb['scale_pos_weight'] = scale_pos_weight\n",
        "    params_xgb['subsample'] = subsample\n",
        "    scores = cross_val_score(XGBClassifier(random_state=123, **params_xgb),\n",
        "                             X_train, np.ravel(y_train, 'C'), scoring=make_scorer(recall_score), cv=3).mean()\n",
        "    score = scores.mean()\n",
        "    return score"
      ]
    },
    {
      "cell_type": "code",
      "execution_count": null,
      "metadata": {
        "id": "7dsPxZ9ERSGY"
      },
      "outputs": [],
      "source": [
        "# Hyperparameter tuning using BO\n",
        "start = time.time()\n",
        "\n",
        "xgb_bo = BayesianOptimization(xgb_cl_bo, params_xgb, random_state=111)\n",
        "xgb_bo.maximize(init_points=120, n_iter=25)\n",
        "print('It takes %s minutes' % ((time.time() - start)/60))"
      ]
    },
    {
      "cell_type": "code",
      "execution_count": null,
      "metadata": {
        "id": "o4AxCKyx5TeY"
      },
      "outputs": [],
      "source": [
        "# Obtain optimal hyperparameters, based on the BO run\n",
        "params_xgb = xgb_bo.max['params']\n",
        "params_xgb['max_depth'] = round(params_xgb['max_depth'])\n",
        "params_xgb['num_boost_round'] = round(params_xgb['num_boost_round'])"
      ]
    },
    {
      "cell_type": "code",
      "execution_count": null,
      "metadata": {
        "id": "0nUz74phw0wT"
      },
      "outputs": [],
      "source": [
        "print(params_xgb)"
      ]
    },
    {
      "cell_type": "code",
      "execution_count": null,
      "metadata": {
        "id": "71VIlALNRWqL"
      },
      "outputs": [],
      "source": [
        "# Can manually enter hyperparams here\n",
        "params_xgb = {\n",
        "    'colsample_bytree':  0.619,\n",
        "    \"gamma\": 2.106,\n",
        "    \"learning_rate\":  0.709,\n",
        "    \"max_depth\": 3,\n",
        "    'min_child_weight': 2.791,\n",
        "    'num_boost_round': 336,\n",
        "    \"reg_lambda\": 4.515,\n",
        "    \"scale_pos_weight\": 1.437,\n",
        "    \"subsample\": 0.504\n",
        "}"
      ]
    },
    {
      "cell_type": "code",
      "execution_count": null,
      "metadata": {
        "id": "qb5c_xWuRcgA"
      },
      "outputs": [],
      "source": [
        "# Construct final classifier using the BO hyperparameters\n",
        "final_cl = xgb.XGBClassifier(\n",
        "    **params_xgb,\n",
        ")"
      ]
    },
    {
      "cell_type": "code",
      "execution_count": null,
      "metadata": {
        "id": "hzb0Mt-JRgMS"
      },
      "outputs": [],
      "source": [
        "# Obtain test and train results, after training the final classifier on the train set\n",
        "_ = final_cl.fit(X_train, y_train)\n",
        "\n",
        "preds = final_cl.predict(X_test)\n",
        "predst = final_cl.predict(X_train)\n",
        "\n",
        "# Score\n",
        "print(\"Test acc: \", accuracy_score(y_test, preds))\n",
        "print(\"Test rec:\", recall_score(y_test, preds))\n",
        "print(\"Test pres:\", precision_score(y_test, preds))\n",
        "print()\n",
        "print(\"Train acc: \", accuracy_score(y_train, predst))\n",
        "print(\"Train rec:\", recall_score(y_train, predst))\n",
        "print(\"Train pres:\", precision_score(y_train, predst))"
      ]
    },
    {
      "cell_type": "code",
      "execution_count": null,
      "metadata": {
        "id": "lpqP-WmBIoFh"
      },
      "outputs": [],
      "source": [
        "# Hyperparamter grid for Random Search\n",
        "param_grid = {\n",
        "  'learning_rate' : np.arange(0.05, 2, 0.05),\n",
        "  'max_depth' : np.arange(1, 10, 1),\n",
        "  'min_child_weight' : np.arange(1, 10, 0.5),\n",
        "  'gamma': np.arange(0, 3, 0.1),\n",
        "  'colsample_bytree' : np.arange(0.1, 1, 0.05),\n",
        "  'num_boost_round': np.arange(100, 500, 50),\n",
        "  \"reg_lambda\": np.arange(0.01, 10, 0.05),\n",
        "  'scale_pos_weight' : np.arange(1, 10, 0.5)\n",
        "}"
      ]
    },
    {
      "cell_type": "code",
      "execution_count": null,
      "metadata": {
        "colab": {
          "base_uri": "https://localhost:8080/"
        },
        "id": "BgorcLBtIqjJ",
        "outputId": "a402d6b7-f26c-48a8-d64e-b66a45b43e49"
      },
      "outputs": [
        {
          "name": "stdout",
          "output_type": "stream",
          "text": [
            "Fitting 3 folds for each of 210 candidates, totalling 630 fits\n"
          ]
        },
        {
          "name": "stderr",
          "output_type": "stream",
          "text": [
            "/usr/local/lib/python3.7/dist-packages/sklearn/preprocessing/_label.py:98: DataConversionWarning: A column-vector y was passed when a 1d array was expected. Please change the shape of y to (n_samples, ), for example using ravel().\n",
            "  y = column_or_1d(y, warn=True)\n",
            "/usr/local/lib/python3.7/dist-packages/sklearn/preprocessing/_label.py:133: DataConversionWarning: A column-vector y was passed when a 1d array was expected. Please change the shape of y to (n_samples, ), for example using ravel().\n",
            "  y = column_or_1d(y, warn=True)\n"
          ]
        }
      ],
      "source": [
        "# Hyperparameter search using RandomSearch\n",
        "rand_cv = RandomizedSearchCV(xgb_cl, param_grid, n_iter=210, scoring=\"accuracy\", n_jobs=-1, cv=3, verbose=True)\n",
        "\n",
        "_ = rand_cv.fit(X_train, y_train)"
      ]
    },
    {
      "cell_type": "code",
      "execution_count": null,
      "metadata": {
        "id": "2etfVPBMI19h"
      },
      "outputs": [],
      "source": [
        "# Construct and train final classifier based on the RandomSearch's best hyperparams\n",
        "final_cl = xgb.XGBClassifier(\n",
        "    **rand_cv.best_params_,\n",
        ")\n",
        "\n",
        "_ = final_cl.fit(X_train, y_train)\n",
        "\n",
        "preds = final_cl.predict(X_test)\n",
        "predst = final_cl.predict(X_train)\n",
        "\n",
        "# Score\n",
        "print(\"Test acc: \", accuracy_score(y_test, preds))\n",
        "print(\"Test rec:\", recall_score(y_test, preds))\n",
        "print(\"Test pres:\", precision_score(y_test, preds))\n",
        "print()\n",
        "print(\"Train acc: \", accuracy_score(y_train, predst))\n",
        "print(\"Train rec:\", recall_score(y_train, predst))\n",
        "print(\"Train pres:\", precision_score(y_train, predst))"
      ]
    }
  ],
  "metadata": {
    "colab": {
      "collapsed_sections": [],
      "name": "XGB_BayesOpt.ipynb",
      "provenance": []
    },
    "kernelspec": {
      "display_name": "Python 3",
      "name": "python3"
    },
    "language_info": {
      "name": "python"
    }
  },
  "nbformat": 4,
  "nbformat_minor": 0
}